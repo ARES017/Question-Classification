{
 "cells": [
  {
   "cell_type": "markdown",
   "metadata": {},
   "source": [
    "#### Import Libraries"
   ]
  },
  {
   "cell_type": "code",
   "execution_count": 1,
   "metadata": {
    "collapsed": true
   },
   "outputs": [],
   "source": [
    "import gensim\n",
    "import nltk\n",
    "import json\n",
    "import pandas as pd\n",
    "import numpy as np\n",
    "from nltk.tokenize import word_tokenize\n",
    "from sklearn.feature_extraction.text import TfidfVectorizer\n",
    "from sklearn.metrics.pairwise import cosine_similarity"
   ]
  },
  {
   "cell_type": "code",
   "execution_count": 2,
   "metadata": {
    "collapsed": true
   },
   "outputs": [],
   "source": [
    "import spacy\n",
    "from spacy import displacy\n",
    "from collections import Counter\n",
    "import en_core_web_md"
   ]
  },
  {
   "cell_type": "markdown",
   "metadata": {},
   "source": [
    "#### Import Train Data"
   ]
  },
  {
   "cell_type": "code",
   "execution_count": 3,
   "metadata": {
    "collapsed": true
   },
   "outputs": [],
   "source": [
    "with open ('train-v2.0.json') as f:\n",
    "    train = json.load(f)"
   ]
  },
  {
   "cell_type": "code",
   "execution_count": 4,
   "metadata": {},
   "outputs": [
    {
     "data": {
      "text/plain": [
       "\"Spectre (2015) is the twenty-fourth James Bond film produced by Eon Productions. It features Daniel Craig in his fourth performance as James Bond, and Christoph Waltz as Ernst Stavro Blofeld, with the film marking the character's re-introduction into the series. It was directed by Sam Mendes as his second James Bond film following Skyfall, and was written by John Logan, Neal Purvis, Robert Wade and Jez Butterworth. It is distributed by Metro-Goldwyn-Mayer and Columbia Pictures. With a budget around $245 million, it is the most expensive Bond film and one of the most expensive films ever made.\""
      ]
     },
     "execution_count": 4,
     "metadata": {},
     "output_type": "execute_result"
    }
   ],
   "source": [
    "text = train['data'][5]['paragraphs'][0]['context']\n",
    "text"
   ]
  },
  {
   "cell_type": "code",
   "execution_count": 4,
   "metadata": {},
   "outputs": [
    {
     "data": {
      "text/plain": [
       "\"spectre (2015) is the twenty fourth james bond film produced by eon productions. it features daniel craig in his fourth performance as james bond, and christoph waltz as ernst stavro blofeld, with the film marking the character's re introduction into the series. it was directed by sam mendes as his second james bond film following skyfall, and was written by john logan, neal purvis, robert wade and jez butterworth. it is distributed by metro goldwyn mayer and columbia pictures. with a budget around $245 million, it is the most expensive bond film and one of the most expensive films ever made.\""
      ]
     },
     "execution_count": 4,
     "metadata": {},
     "output_type": "execute_result"
    }
   ],
   "source": [
    "text = text.lower()\n",
    "text = text.replace('-', ' ')\n",
    "text"
   ]
  },
  {
   "cell_type": "markdown",
   "metadata": {},
   "source": [
    "#### Convert text into Sentences"
   ]
  },
  {
   "cell_type": "code",
   "execution_count": 5,
   "metadata": {},
   "outputs": [
    {
     "data": {
      "text/plain": [
       "['spectre (2015) is the twenty fourth james bond film produced by eon productions',\n",
       " \" it features daniel craig in his fourth performance as james bond, and christoph waltz as ernst stavro blofeld, with the film marking the character's re introduction into the series\",\n",
       " ' it was directed by sam mendes as his second james bond film following skyfall, and was written by john logan, neal purvis, robert wade and jez butterworth',\n",
       " ' it is distributed by metro goldwyn mayer and columbia pictures',\n",
       " ' with a budget around $245 million, it is the most expensive bond film and one of the most expensive films ever made',\n",
       " '']"
      ]
     },
     "execution_count": 5,
     "metadata": {},
     "output_type": "execute_result"
    }
   ],
   "source": [
    "sentences = text.split('.')\n",
    "sentences"
   ]
  },
  {
   "cell_type": "code",
   "execution_count": 6,
   "metadata": {},
   "outputs": [
    {
     "data": {
      "text/plain": [
       "['spectre (2015) is the twenty fourth james bond film produced by eon productions',\n",
       " \" it features daniel craig in his fourth performance as james bond, and christoph waltz as ernst stavro blofeld, with the film marking the character's re introduction into the series\",\n",
       " ' it was directed by sam mendes as his second james bond film following skyfall, and was written by john logan, neal purvis, robert wade and jez butterworth',\n",
       " ' it is distributed by metro goldwyn mayer and columbia pictures',\n",
       " ' with a budget around $245 million, it is the most expensive bond film and one of the most expensive films ever made']"
      ]
     },
     "execution_count": 6,
     "metadata": {},
     "output_type": "execute_result"
    }
   ],
   "source": [
    "del(sentences[-1])\n",
    "sentences"
   ]
  },
  {
   "cell_type": "markdown",
   "metadata": {},
   "source": [
    "#### Vectorization"
   ]
  },
  {
   "cell_type": "code",
   "execution_count": 9,
   "metadata": {
    "collapsed": true
   },
   "outputs": [],
   "source": [
    "vect = TfidfVectorizer(min_df = 1).fit(sentences)"
   ]
  },
  {
   "cell_type": "markdown",
   "metadata": {},
   "source": [
    "#### Test"
   ]
  },
  {
   "cell_type": "code",
   "execution_count": 10,
   "metadata": {
    "collapsed": true
   },
   "outputs": [],
   "source": [
    "train_array = vect.transform(sentences).toarray()"
   ]
  },
  {
   "cell_type": "markdown",
   "metadata": {},
   "source": [
    "#### TF-IDF"
   ]
  },
  {
   "cell_type": "code",
   "execution_count": 11,
   "metadata": {
    "collapsed": true
   },
   "outputs": [],
   "source": [
    "dict_vect = list(vect.vocabulary_.keys())"
   ]
  },
  {
   "cell_type": "code",
   "execution_count": 12,
   "metadata": {
    "collapsed": true
   },
   "outputs": [],
   "source": [
    "idf = vect.idf_"
   ]
  },
  {
   "cell_type": "code",
   "execution_count": 13,
   "metadata": {
    "collapsed": true
   },
   "outputs": [],
   "source": [
    "tf_list = [text.count(word) for word in dict_vect]\n",
    "tf = np.array(tf_list)"
   ]
  },
  {
   "cell_type": "code",
   "execution_count": 14,
   "metadata": {
    "collapsed": true
   },
   "outputs": [],
   "source": [
    "tfidf = tf * idf"
   ]
  },
  {
   "cell_type": "code",
   "execution_count": 15,
   "metadata": {},
   "outputs": [
    {
     "data": {
      "text/html": [
       "<div>\n",
       "<style scoped>\n",
       "    .dataframe tbody tr th:only-of-type {\n",
       "        vertical-align: middle;\n",
       "    }\n",
       "\n",
       "    .dataframe tbody tr th {\n",
       "        vertical-align: top;\n",
       "    }\n",
       "\n",
       "    .dataframe thead th {\n",
       "        text-align: right;\n",
       "    }\n",
       "</style>\n",
       "<table border=\"1\" class=\"dataframe\">\n",
       "  <thead>\n",
       "    <tr style=\"text-align: right;\">\n",
       "      <th></th>\n",
       "      <th>0</th>\n",
       "    </tr>\n",
       "  </thead>\n",
       "  <tbody>\n",
       "    <tr>\n",
       "      <th>spectre</th>\n",
       "      <td>2.098612</td>\n",
       "    </tr>\n",
       "    <tr>\n",
       "      <th>2015</th>\n",
       "      <td>2.098612</td>\n",
       "    </tr>\n",
       "    <tr>\n",
       "      <th>is</th>\n",
       "      <td>9.458572</td>\n",
       "    </tr>\n",
       "    <tr>\n",
       "      <th>the</th>\n",
       "      <td>12.591674</td>\n",
       "    </tr>\n",
       "    <tr>\n",
       "      <th>twenty</th>\n",
       "      <td>1.693147</td>\n",
       "    </tr>\n",
       "  </tbody>\n",
       "</table>\n",
       "</div>"
      ],
      "text/plain": [
       "                 0\n",
       "spectre   2.098612\n",
       "2015      2.098612\n",
       "is        9.458572\n",
       "the      12.591674\n",
       "twenty    1.693147"
      ]
     },
     "execution_count": 15,
     "metadata": {},
     "output_type": "execute_result"
    }
   ],
   "source": [
    "df = pd.DataFrame(index = dict_vect, data = tfidf)\n",
    "df.head()"
   ]
  },
  {
   "cell_type": "markdown",
   "metadata": {},
   "source": [
    "#### Test"
   ]
  },
  {
   "cell_type": "code",
   "execution_count": 16,
   "metadata": {
    "collapsed": true
   },
   "outputs": [],
   "source": [
    "query = 'How many James Bond films has Eon Productions produced?'"
   ]
  },
  {
   "cell_type": "code",
   "execution_count": 17,
   "metadata": {
    "collapsed": true
   },
   "outputs": [],
   "source": [
    "qn = [query.lower()]"
   ]
  },
  {
   "cell_type": "code",
   "execution_count": 18,
   "metadata": {
    "collapsed": true
   },
   "outputs": [],
   "source": [
    "def qn_ans(train_array, qn_list):\n",
    "    \n",
    "    ans = []\n",
    "    \n",
    "    for qn in qn_list:\n",
    "        qn_array = vect.transform([qn]).toarray()\n",
    "        result = cosine_similarity(train_array, qn_array)\n",
    "        \n",
    "        if result.max() > 0.1:\n",
    "            ans.append((sentences[result.argmax()]))\n",
    "        else:\n",
    "            ans.append('')\n",
    "            \n",
    "    return ans"
   ]
  },
  {
   "cell_type": "code",
   "execution_count": 19,
   "metadata": {},
   "outputs": [
    {
     "data": {
      "text/plain": [
       "['spectre (2015) is the twenty fourth james bond film produced by eon productions']"
      ]
     },
     "execution_count": 19,
     "metadata": {},
     "output_type": "execute_result"
    }
   ],
   "source": [
    "qn_ans(train_array, qn)"
   ]
  },
  {
   "cell_type": "markdown",
   "metadata": {},
   "source": [
    "#### Questions"
   ]
  },
  {
   "cell_type": "code",
   "execution_count": 20,
   "metadata": {
    "collapsed": true
   },
   "outputs": [],
   "source": [
    "qn_list = []\n",
    "for i in range(len(train['data'][5]['paragraphs'][0]['qas'])):\n",
    "    qn_list.append(train['data'][5]['paragraphs'][0]['qas'][i]['question'].lower())"
   ]
  },
  {
   "cell_type": "code",
   "execution_count": 21,
   "metadata": {},
   "outputs": [
    {
     "data": {
      "text/plain": [
       "['which company made spectre?',\n",
       " 'who is the star of spectre?',\n",
       " 'what role does daniel craig play in spectre?',\n",
       " 'what 007 movie did sam mendes previously direct?',\n",
       " 'how much money did it take to make spectre?',\n",
       " 'how many james bond films has eon productions produced?',\n",
       " 'which bond film was the most expensive ever made?',\n",
       " 'how many films has daniel craig appeared in as james bond?',\n",
       " 'which two movie studios distributed the james bond film spectre?',\n",
       " 'who directed spectre?',\n",
       " 'what is the name of the thirty-fourth james bond film?',\n",
       " 'in what year was the thirty-fourth james bond film produced?',\n",
       " 'daniel craig stars as ernst stavro blofeld in what 2015 film?',\n",
       " 'sam mendes wrote what 2015 film?',\n",
       " 'john logan directed what 2015 film?']"
      ]
     },
     "execution_count": 21,
     "metadata": {},
     "output_type": "execute_result"
    }
   ],
   "source": [
    "qn_list"
   ]
  },
  {
   "cell_type": "code",
   "execution_count": 22,
   "metadata": {},
   "outputs": [
    {
     "data": {
      "text/html": [
       "<div>\n",
       "<style scoped>\n",
       "    .dataframe tbody tr th:only-of-type {\n",
       "        vertical-align: middle;\n",
       "    }\n",
       "\n",
       "    .dataframe tbody tr th {\n",
       "        vertical-align: top;\n",
       "    }\n",
       "\n",
       "    .dataframe thead th {\n",
       "        text-align: right;\n",
       "    }\n",
       "</style>\n",
       "<table border=\"1\" class=\"dataframe\">\n",
       "  <thead>\n",
       "    <tr style=\"text-align: right;\">\n",
       "      <th></th>\n",
       "      <th>0</th>\n",
       "    </tr>\n",
       "  </thead>\n",
       "  <tbody>\n",
       "    <tr>\n",
       "      <th>which company made spectre?</th>\n",
       "      <td>spectre (2015) is the twenty fourth james bond...</td>\n",
       "    </tr>\n",
       "    <tr>\n",
       "      <th>who is the star of spectre?</th>\n",
       "      <td>spectre (2015) is the twenty fourth james bond...</td>\n",
       "    </tr>\n",
       "    <tr>\n",
       "      <th>what role does daniel craig play in spectre?</th>\n",
       "      <td>it features daniel craig in his fourth perfor...</td>\n",
       "    </tr>\n",
       "    <tr>\n",
       "      <th>what 007 movie did sam mendes previously direct?</th>\n",
       "      <td>it was directed by sam mendes as his second j...</td>\n",
       "    </tr>\n",
       "    <tr>\n",
       "      <th>how much money did it take to make spectre?</th>\n",
       "      <td>spectre (2015) is the twenty fourth james bond...</td>\n",
       "    </tr>\n",
       "    <tr>\n",
       "      <th>how many james bond films has eon productions produced?</th>\n",
       "      <td>spectre (2015) is the twenty fourth james bond...</td>\n",
       "    </tr>\n",
       "    <tr>\n",
       "      <th>which bond film was the most expensive ever made?</th>\n",
       "      <td>with a budget around $245 million, it is the ...</td>\n",
       "    </tr>\n",
       "    <tr>\n",
       "      <th>how many films has daniel craig appeared in as james bond?</th>\n",
       "      <td>it features daniel craig in his fourth perfor...</td>\n",
       "    </tr>\n",
       "    <tr>\n",
       "      <th>which two movie studios distributed the james bond film spectre?</th>\n",
       "      <td>spectre (2015) is the twenty fourth james bond...</td>\n",
       "    </tr>\n",
       "    <tr>\n",
       "      <th>who directed spectre?</th>\n",
       "      <td>spectre (2015) is the twenty fourth james bond...</td>\n",
       "    </tr>\n",
       "    <tr>\n",
       "      <th>what is the name of the thirty-fourth james bond film?</th>\n",
       "      <td>spectre (2015) is the twenty fourth james bond...</td>\n",
       "    </tr>\n",
       "    <tr>\n",
       "      <th>in what year was the thirty-fourth james bond film produced?</th>\n",
       "      <td>spectre (2015) is the twenty fourth james bond...</td>\n",
       "    </tr>\n",
       "    <tr>\n",
       "      <th>daniel craig stars as ernst stavro blofeld in what 2015 film?</th>\n",
       "      <td>it features daniel craig in his fourth perfor...</td>\n",
       "    </tr>\n",
       "    <tr>\n",
       "      <th>sam mendes wrote what 2015 film?</th>\n",
       "      <td>it was directed by sam mendes as his second j...</td>\n",
       "    </tr>\n",
       "    <tr>\n",
       "      <th>john logan directed what 2015 film?</th>\n",
       "      <td>it was directed by sam mendes as his second j...</td>\n",
       "    </tr>\n",
       "  </tbody>\n",
       "</table>\n",
       "</div>"
      ],
      "text/plain": [
       "                                                                                                    0\n",
       "which company made spectre?                         spectre (2015) is the twenty fourth james bond...\n",
       "who is the star of spectre?                         spectre (2015) is the twenty fourth james bond...\n",
       "what role does daniel craig play in spectre?         it features daniel craig in his fourth perfor...\n",
       "what 007 movie did sam mendes previously direct?     it was directed by sam mendes as his second j...\n",
       "how much money did it take to make spectre?         spectre (2015) is the twenty fourth james bond...\n",
       "how many james bond films has eon productions p...  spectre (2015) is the twenty fourth james bond...\n",
       "which bond film was the most expensive ever made?    with a budget around $245 million, it is the ...\n",
       "how many films has daniel craig appeared in as ...   it features daniel craig in his fourth perfor...\n",
       "which two movie studios distributed the james b...  spectre (2015) is the twenty fourth james bond...\n",
       "who directed spectre?                               spectre (2015) is the twenty fourth james bond...\n",
       "what is the name of the thirty-fourth james bon...  spectre (2015) is the twenty fourth james bond...\n",
       "in what year was the thirty-fourth james bond f...  spectre (2015) is the twenty fourth james bond...\n",
       "daniel craig stars as ernst stavro blofeld in w...   it features daniel craig in his fourth perfor...\n",
       "sam mendes wrote what 2015 film?                     it was directed by sam mendes as his second j...\n",
       "john logan directed what 2015 film?                  it was directed by sam mendes as his second j..."
      ]
     },
     "execution_count": 22,
     "metadata": {},
     "output_type": "execute_result"
    }
   ],
   "source": [
    "pd.DataFrame(index = qn_list, data = qn_ans(train_array, qn_list))"
   ]
  },
  {
   "cell_type": "markdown",
   "metadata": {},
   "source": [
    "#### NER"
   ]
  },
  {
   "cell_type": "code",
   "execution_count": 26,
   "metadata": {
    "collapsed": true
   },
   "outputs": [],
   "source": [
    "nlp = en_core_web_md.load()"
   ]
  },
  {
   "cell_type": "code",
   "execution_count": 33,
   "metadata": {},
   "outputs": [
    {
     "data": {
      "text/plain": [
       "array([[ 0.]])"
      ]
     },
     "execution_count": 33,
     "metadata": {},
     "output_type": "execute_result"
    }
   ],
   "source": [
    "cosine_similarity(vect.transform(['James Bond']).toarray(), vect.transform(['Daniel Craig']).toarray())"
   ]
  },
  {
   "cell_type": "markdown",
   "metadata": {},
   "source": [
    "#### Create QA Dataset"
   ]
  },
  {
   "cell_type": "code",
   "execution_count": 33,
   "metadata": {},
   "outputs": [],
   "source": [
    "qa_dataset = pd.DataFrame(columns = ['Text', 'Questions', 'Answers'])"
   ]
  },
  {
   "cell_type": "code",
   "execution_count": 88,
   "metadata": {},
   "outputs": [],
   "source": [
    "for i in range(len(train['data'])):\n",
    "    qn,ans = [],[]\n",
    "    \n",
    "    text = [train['data'][i]['paragraphs'][0]['context']]\n",
    "    \n",
    "    for j in range(len(train['data'][i]['paragraphs'][0]['qas'])):\n",
    "        qn.append(train['data'][i]['paragraphs'][0]['qas'][j]['question'])\n",
    "        ans.append(train['data'][i]['paragraphs'][0]['qas'][j]['answers'])\n",
    "    \n",
    "    df = pd.DataFrame({'Text':text, 'Questions':[qn], 'Answers':[ans]})\n",
    "    \n",
    "    qa_dataset = pd.concat([qa_dataset, df])"
   ]
  },
  {
   "cell_type": "code",
   "execution_count": 93,
   "metadata": {},
   "outputs": [
    {
     "data": {
      "text/html": [
       "<div>\n",
       "<style scoped>\n",
       "    .dataframe tbody tr th:only-of-type {\n",
       "        vertical-align: middle;\n",
       "    }\n",
       "\n",
       "    .dataframe tbody tr th {\n",
       "        vertical-align: top;\n",
       "    }\n",
       "\n",
       "    .dataframe thead th {\n",
       "        text-align: right;\n",
       "    }\n",
       "</style>\n",
       "<table border=\"1\" class=\"dataframe\">\n",
       "  <thead>\n",
       "    <tr style=\"text-align: right;\">\n",
       "      <th></th>\n",
       "      <th>Text</th>\n",
       "      <th>Questions</th>\n",
       "      <th>Answers</th>\n",
       "    </tr>\n",
       "  </thead>\n",
       "  <tbody>\n",
       "    <tr>\n",
       "      <th>0</th>\n",
       "      <td>Beyoncé Giselle Knowles-Carter (/biːˈjɒnseɪ/ b...</td>\n",
       "      <td>[When did Beyonce start becoming popular?, Wha...</td>\n",
       "      <td>[in the late 1990s, singing and dancing, 2003,...</td>\n",
       "    </tr>\n",
       "    <tr>\n",
       "      <th>1</th>\n",
       "      <td>Frédéric François Chopin (/ˈʃoʊpæn/; French pr...</td>\n",
       "      <td>[What was Frédéric's nationalities?, In what e...</td>\n",
       "      <td>[Polish and French, Romantic era, solo piano, ...</td>\n",
       "    </tr>\n",
       "    <tr>\n",
       "      <th>2</th>\n",
       "      <td>The exact nature of relations between Tibet an...</td>\n",
       "      <td>[Who were Wang Jiawei and Nyima Gyaincain?]</td>\n",
       "      <td>[Mainland Chinese scholars]</td>\n",
       "    </tr>\n",
       "    <tr>\n",
       "      <th>3</th>\n",
       "      <td>The iPod is a line of portable media players a...</td>\n",
       "      <td>[Which company produces the iPod?, When was th...</td>\n",
       "      <td>[Apple, October 23, 2001, three, portable medi...</td>\n",
       "    </tr>\n",
       "    <tr>\n",
       "      <th>4</th>\n",
       "      <td>Beyoncé Giselle Knowles-Carter (/biːˈjɒnseɪ/ b...</td>\n",
       "      <td>[When did Beyonce start becoming popular?, Wha...</td>\n",
       "      <td>[in the late 1990s, singing and dancing, 2003,...</td>\n",
       "    </tr>\n",
       "  </tbody>\n",
       "</table>\n",
       "</div>"
      ],
      "text/plain": [
       "                                                Text  \\\n",
       "0  Beyoncé Giselle Knowles-Carter (/biːˈjɒnseɪ/ b...   \n",
       "1  Frédéric François Chopin (/ˈʃoʊpæn/; French pr...   \n",
       "2  The exact nature of relations between Tibet an...   \n",
       "3  The iPod is a line of portable media players a...   \n",
       "4  Beyoncé Giselle Knowles-Carter (/biːˈjɒnseɪ/ b...   \n",
       "\n",
       "                                           Questions  \\\n",
       "0  [When did Beyonce start becoming popular?, Wha...   \n",
       "1  [What was Frédéric's nationalities?, In what e...   \n",
       "2        [Who were Wang Jiawei and Nyima Gyaincain?]   \n",
       "3  [Which company produces the iPod?, When was th...   \n",
       "4  [When did Beyonce start becoming popular?, Wha...   \n",
       "\n",
       "                                             Answers  \n",
       "0  [in the late 1990s, singing and dancing, 2003,...  \n",
       "1  [Polish and French, Romantic era, solo piano, ...  \n",
       "2                        [Mainland Chinese scholars]  \n",
       "3  [Apple, October 23, 2001, three, portable medi...  \n",
       "4  [in the late 1990s, singing and dancing, 2003,...  "
      ]
     },
     "execution_count": 93,
     "metadata": {},
     "output_type": "execute_result"
    }
   ],
   "source": [
    "qa_df = qa_dataset.reset_index().drop(['index'], axis = 1)\n",
    "qa_df.head()"
   ]
  },
  {
   "cell_type": "code",
   "execution_count": 97,
   "metadata": {
    "collapsed": true
   },
   "outputs": [],
   "source": [
    "qa_df.to_csv('QA Dataset.csv')"
   ]
  }
 ],
 "metadata": {
  "kernelspec": {
   "display_name": "Python 3",
   "language": "python",
   "name": "python3"
  },
  "language_info": {
   "codemirror_mode": {
    "name": "ipython",
    "version": 3
   },
   "file_extension": ".py",
   "mimetype": "text/x-python",
   "name": "python",
   "nbconvert_exporter": "python",
   "pygments_lexer": "ipython3",
   "version": "3.6.6"
  }
 },
 "nbformat": 4,
 "nbformat_minor": 2
}
