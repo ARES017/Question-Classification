{
 "cells": [
  {
   "cell_type": "markdown",
   "metadata": {},
   "source": [
    "#### Import Libraries"
   ]
  },
  {
   "cell_type": "code",
   "execution_count": 2,
   "metadata": {},
   "outputs": [],
   "source": [
    "import gensim\n",
    "import nltk\n",
    "import json\n",
    "import pandas as pd\n",
    "import numpy as np\n",
    "import spacy\n",
    "from spacy import displacy\n",
    "from collections import Counter\n",
    "import en_core_web_md"
   ]
  },
  {
   "cell_type": "markdown",
   "metadata": {},
   "source": [
    "#### Import Train Data"
   ]
  },
  {
   "cell_type": "code",
   "execution_count": 3,
   "metadata": {
    "collapsed": true
   },
   "outputs": [],
   "source": [
    "with open ('train-v2.0.json') as f:\n",
    "    train = json.load(f)"
   ]
  },
  {
   "cell_type": "code",
   "execution_count": 26,
   "metadata": {},
   "outputs": [
    {
     "data": {
      "text/plain": [
       "\"Spectre (2015) is the twenty-fourth James Bond film produced by Eon Productions. It features Daniel Craig in his fourth performance as James Bond, and Christoph Waltz as Ernst Stavro Blofeld, with the film marking the character's re-introduction into the series. It was directed by Sam Mendes as his second James Bond film following Skyfall, and was written by John Logan, Neal Purvis, Robert Wade and Jez Butterworth. It is distributed by Metro-Goldwyn-Mayer and Columbia Pictures. With a budget around $245 million, it is the most expensive Bond film and one of the most expensive films ever made.\""
      ]
     },
     "execution_count": 26,
     "metadata": {},
     "output_type": "execute_result"
    }
   ],
   "source": [
    "text = train['data'][5]['paragraphs'][0]['context']\n",
    "text"
   ]
  },
  {
   "cell_type": "markdown",
   "metadata": {},
   "source": [
    "#### Convert text into Sentences"
   ]
  },
  {
   "cell_type": "code",
   "execution_count": 5,
   "metadata": {},
   "outputs": [
    {
     "data": {
      "text/plain": [
       "['spectre (2015) is the twenty fourth james bond film produced by eon productions',\n",
       " \" it features daniel craig in his fourth performance as james bond, and christoph waltz as ernst stavro blofeld, with the film marking the character's re introduction into the series\",\n",
       " ' it was directed by sam mendes as his second james bond film following skyfall, and was written by john logan, neal purvis, robert wade and jez butterworth',\n",
       " ' it is distributed by metro goldwyn mayer and columbia pictures',\n",
       " ' with a budget around $245 million, it is the most expensive bond film and one of the most expensive films ever made',\n",
       " '']"
      ]
     },
     "execution_count": 5,
     "metadata": {},
     "output_type": "execute_result"
    }
   ],
   "source": [
    "sentences = text.split('.')\n",
    "sentences"
   ]
  },
  {
   "cell_type": "code",
   "execution_count": 6,
   "metadata": {},
   "outputs": [
    {
     "data": {
      "text/plain": [
       "['spectre (2015) is the twenty fourth james bond film produced by eon productions',\n",
       " \" it features daniel craig in his fourth performance as james bond, and christoph waltz as ernst stavro blofeld, with the film marking the character's re introduction into the series\",\n",
       " ' it was directed by sam mendes as his second james bond film following skyfall, and was written by john logan, neal purvis, robert wade and jez butterworth',\n",
       " ' it is distributed by metro goldwyn mayer and columbia pictures',\n",
       " ' with a budget around $245 million, it is the most expensive bond film and one of the most expensive films ever made']"
      ]
     },
     "execution_count": 6,
     "metadata": {},
     "output_type": "execute_result"
    }
   ],
   "source": [
    "del(sentences[-1])\n",
    "sentences"
   ]
  },
  {
   "cell_type": "markdown",
   "metadata": {},
   "source": [
    "#### NER"
   ]
  },
  {
   "cell_type": "code",
   "execution_count": 27,
   "metadata": {
    "collapsed": true
   },
   "outputs": [],
   "source": [
    "nlp = en_core_web_md.load()"
   ]
  },
  {
   "cell_type": "code",
   "execution_count": 28,
   "metadata": {},
   "outputs": [
    {
     "name": "stdout",
     "output_type": "stream",
     "text": [
      "[('2015', 'DATE'), ('twenty-fourth', 'QUANTITY'), ('James Bond', 'PERSON'), ('Eon Productions', 'ORG'), ('Daniel Craig', 'PERSON'), ('fourth', 'ORDINAL'), ('James Bond', 'PERSON'), ('Christoph Waltz', 'PERSON'), ('Ernst Stavro Blofeld', 'PERSON'), ('Sam Mendes', 'PERSON'), ('second', 'ORDINAL'), ('James Bond', 'PERSON'), ('Skyfall', 'DATE'), ('John Logan', 'PERSON'), ('Neal Purvis', 'PERSON'), ('Robert Wade', 'PERSON'), ('Jez Butterworth', 'PERSON'), ('Metro-Goldwyn-Mayer', 'ORG'), ('Columbia Pictures', 'ORG'), ('around $245 million', 'MONEY'), ('one', 'CARDINAL')]\n"
     ]
    }
   ],
   "source": [
    "doc = nlp(text)\n",
    "print([(X.text, X.label_) for X in doc.ents])"
   ]
  },
  {
   "cell_type": "code",
   "execution_count": null,
   "metadata": {
    "collapsed": true
   },
   "outputs": [],
   "source": []
  }
 ],
 "metadata": {
  "kernelspec": {
   "display_name": "Python 3",
   "language": "python",
   "name": "python3"
  },
  "language_info": {
   "codemirror_mode": {
    "name": "ipython",
    "version": 3
   },
   "file_extension": ".py",
   "mimetype": "text/x-python",
   "name": "python",
   "nbconvert_exporter": "python",
   "pygments_lexer": "ipython3",
   "version": "3.6.1"
  }
 },
 "nbformat": 4,
 "nbformat_minor": 2
}
